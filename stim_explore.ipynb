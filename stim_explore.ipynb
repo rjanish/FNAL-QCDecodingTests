{
 "cells": [
  {
   "cell_type": "markdown",
   "metadata": {},
   "source": [
    "Testing and Exploring with STIM"
   ]
  },
  {
   "cell_type": "code",
   "execution_count": 1,
   "metadata": {},
   "outputs": [],
   "source": [
    "import stim"
   ]
  },
  {
   "cell_type": "code",
   "execution_count": 2,
   "metadata": {},
   "outputs": [],
   "source": [
    "c = stim.Circuit(\"\"\"\n",
    "    H 0\n",
    "    CNOT 0 1\n",
    "    M 0 1\n",
    "    \"\"\")"
   ]
  },
  {
   "cell_type": "code",
   "execution_count": 3,
   "metadata": {},
   "outputs": [],
   "source": [
    "sampler = c.compile_sampler()"
   ]
  },
  {
   "cell_type": "code",
   "execution_count": 4,
   "metadata": {},
   "outputs": [
    {
     "data": {
      "text/plain": [
       "array([[ True,  True],\n",
       "       [False, False],\n",
       "       [ True,  True],\n",
       "       [False, False],\n",
       "       [ True,  True],\n",
       "       [ True,  True],\n",
       "       [False, False],\n",
       "       [ True,  True],\n",
       "       [ True,  True],\n",
       "       [False, False]])"
      ]
     },
     "execution_count": 4,
     "metadata": {},
     "output_type": "execute_result"
    }
   ],
   "source": [
    "sampler.sample(10)"
   ]
  },
  {
   "cell_type": "code",
   "execution_count": 5,
   "metadata": {},
   "outputs": [
    {
     "data": {
      "image/svg+xml": [
       "<svg viewBox=\"0 0 288 224\"  version=\"1.1\" xmlns=\"http://www.w3.org/2000/svg\">\n",
       "<g id=\"qubit_lines\">\n",
       "<path id=\"qubit_line:0\" d=\"M64,64 L256,64 \" stroke=\"black\"/>\n",
       "<text dominant-baseline=\"central\" text-anchor=\"end\" font-family=\"monospace\" font-size=\"12\" x=\"64\" y=\"64\">q0</text>\n",
       "<path id=\"qubit_line:1\" d=\"M64,128 L256,128 \" stroke=\"black\"/>\n",
       "<text dominant-baseline=\"central\" text-anchor=\"end\" font-family=\"monospace\" font-size=\"12\" x=\"64\" y=\"128\">q1</text>\n",
       "</g>\n",
       "<rect x=\"80\" y=\"48\" width=\"32\" height=\"32\" stroke=\"black\" fill=\"white\"/>\n",
       "<text dominant-baseline=\"central\" text-anchor=\"middle\" font-family=\"monospace\" font-size=\"30\" x=\"96\" y=\"64\">H</text>\n",
       "<path d=\"M160,64 L160,128 \" stroke=\"black\"/>\n",
       "<circle cx=\"160\" cy=\"64\" r=\"12\" stroke=\"none\" fill=\"black\"/>\n",
       "<circle cx=\"160\" cy=\"128\" r=\"12\" stroke=\"black\" fill=\"white\"/>\n",
       "<path d=\"M148,128 L172,128 M160,116 L160,140 \" stroke=\"black\"/>\n",
       "<rect x=\"208\" y=\"48\" width=\"32\" height=\"32\" stroke=\"black\" fill=\"black\"/>\n",
       "<text dominant-baseline=\"central\" text-anchor=\"middle\" font-family=\"monospace\" font-size=\"30\" x=\"224\" y=\"64\" fill=\"white\">M</text>\n",
       "<text text-anchor=\"middle\" font-family=\"monospace\" font-size=\"8\" x=\"224\" y=\"44\">rec[0]</text>\n",
       "<rect x=\"208\" y=\"112\" width=\"32\" height=\"32\" stroke=\"black\" fill=\"black\"/>\n",
       "<text dominant-baseline=\"central\" text-anchor=\"middle\" font-family=\"monospace\" font-size=\"30\" x=\"224\" y=\"128\" fill=\"white\">M</text>\n",
       "<text text-anchor=\"middle\" font-family=\"monospace\" font-size=\"8\" x=\"224\" y=\"108\">rec[1]</text>\n",
       "</svg>"
      ],
      "text/plain": [
       "<svg viewBox=\"0 0 288 224\"  version=\"1.1\" xmlns=\"http://www.w3.org/2000/svg\">\n",
       "<g id=\"qubit_lines\">\n",
       "<path id=\"qubit_line:0\" d=\"M64,64 L256,64 \" stroke=\"black\"/>\n",
       "<text dominant-baseline=\"central\" text-anchor=\"end\" font-family=\"monospace\" font-size=\"12\" x=\"64\" y=\"64\">q0</text>\n",
       "<path id=\"qubit_line:1\" d=\"M64,128 L256,128 \" stroke=\"black\"/>\n",
       "<text dominant-baseline=\"central\" text-anchor=\"end\" font-family=\"monospace\" font-size=\"12\" x=\"64\" y=\"128\">q1</text>\n",
       "</g>\n",
       "<rect x=\"80\" y=\"48\" width=\"32\" height=\"32\" stroke=\"black\" fill=\"white\"/>\n",
       "<text dominant-baseline=\"central\" text-anchor=\"middle\" font-family=\"monospace\" font-size=\"30\" x=\"96\" y=\"64\">H</text>\n",
       "<path d=\"M160,64 L160,128 \" stroke=\"black\"/>\n",
       "<circle cx=\"160\" cy=\"64\" r=\"12\" stroke=\"none\" fill=\"black\"/>\n",
       "<circle cx=\"160\" cy=\"128\" r=\"12\" stroke=\"black\" fill=\"white\"/>\n",
       "<path d=\"M148,128 L172,128 M160,116 L160,140 \" stroke=\"black\"/>\n",
       "<rect x=\"208\" y=\"48\" width=\"32\" height=\"32\" stroke=\"black\" fill=\"black\"/>\n",
       "<text dominant-baseline=\"central\" text-anchor=\"middle\" font-family=\"monospace\" font-size=\"30\" x=\"224\" y=\"64\" fill=\"white\">M</text>\n",
       "<text text-anchor=\"middle\" font-family=\"monospace\" font-size=\"8\" x=\"224\" y=\"44\">rec[0]</text>\n",
       "<rect x=\"208\" y=\"112\" width=\"32\" height=\"32\" stroke=\"black\" fill=\"black\"/>\n",
       "<text dominant-baseline=\"central\" text-anchor=\"middle\" font-family=\"monospace\" font-size=\"30\" x=\"224\" y=\"128\" fill=\"white\">M</text>\n",
       "<text text-anchor=\"middle\" font-family=\"monospace\" font-size=\"8\" x=\"224\" y=\"108\">rec[1]</text>\n",
       "</svg>"
      ]
     },
     "execution_count": 5,
     "metadata": {},
     "output_type": "execute_result"
    }
   ],
   "source": [
    "c.diagram(\"timeline-svg\")"
   ]
  },
  {
   "cell_type": "code",
   "execution_count": 6,
   "metadata": {},
   "outputs": [],
   "source": [
    "def rep_code(distance, rounds, noise):\n",
    "    circuit = stim.Circuit()\n",
    "    qbuits = range(2 * distance + 1)\n",
    "    data = qbuits[::2]\n",
    "    measure = qbuits[1::2]\n",
    "    for r in range(rounds):\n",
    "        for m in measure:\n",
    "            circuit.append(\"CNOT\", [m - 1, m])\n",
    "            circuit.append_operation(\"DEPOLARIZE2\", [m-1, m], noise)\n",
    "        for m in measure:\n",
    "            circuit.append(\"CNOT\", [m + 1, m])\n",
    "            circuit.append_operation(\"DEPOLARIZE2\", [m+1, m], noise)\n",
    "        circuit.append_operation(\"DEPOLARIZE1\", qbuits, noise)\n",
    "        circuit.append_operation(\"MR\", measure)\n",
    "        if r > 0:\n",
    "            for k in range(len(measure)):\n",
    "                circuit.append_operation(\"DETECTOR\", \n",
    "                                        [stim.target_rec(-1-k), \n",
    "                                         stim.target_rec(-1-k-distance)])\n",
    "    circuit.append_operation(\"M\", data)\n",
    "    for k in range(len(measure)):\n",
    "        circuit.append_operation(\"DETECTOR\", \n",
    "                                [stim.target_rec(-1-k), \n",
    "                                 stim.target_rec(-2-k),\n",
    "                                 stim.target_rec(-2-k-distance)])\n",
    "    circuit.append_operation(\"OBSERVABLE_INCLUDE\", [stim.target_rec(-1)], 0)\n",
    "    return circuit"
   ]
  },
  {
   "cell_type": "code",
   "execution_count": 7,
   "metadata": {},
   "outputs": [
    {
     "data": {
      "text/plain": [
       "stim.Circuit('''\n",
       "    CX 0 1\n",
       "    DEPOLARIZE2(0.01) 0 1\n",
       "    CX 2 3\n",
       "    DEPOLARIZE2(0.01) 2 3\n",
       "    CX 4 5\n",
       "    DEPOLARIZE2(0.01) 4 5\n",
       "    CX 2 1\n",
       "    DEPOLARIZE2(0.01) 2 1\n",
       "    CX 4 3\n",
       "    DEPOLARIZE2(0.01) 4 3\n",
       "    CX 6 5\n",
       "    DEPOLARIZE2(0.01) 6 5\n",
       "    DEPOLARIZE1(0.01) 0 1 2 3 4 5 6\n",
       "    MR 1 3 5\n",
       "    CX 0 1\n",
       "    DEPOLARIZE2(0.01) 0 1\n",
       "    CX 2 3\n",
       "    DEPOLARIZE2(0.01) 2 3\n",
       "    CX 4 5\n",
       "    DEPOLARIZE2(0.01) 4 5\n",
       "    CX 2 1\n",
       "    DEPOLARIZE2(0.01) 2 1\n",
       "    CX 4 3\n",
       "    DEPOLARIZE2(0.01) 4 3\n",
       "    CX 6 5\n",
       "    DEPOLARIZE2(0.01) 6 5\n",
       "    DEPOLARIZE1(0.01) 0 1 2 3 4 5 6\n",
       "    MR 1 3 5\n",
       "    DETECTOR rec[-1] rec[-4]\n",
       "    DETECTOR rec[-2] rec[-5]\n",
       "    DETECTOR rec[-3] rec[-6]\n",
       "    M 0 2 4 6\n",
       "    DETECTOR rec[-1] rec[-2] rec[-5]\n",
       "    DETECTOR rec[-2] rec[-3] rec[-6]\n",
       "    DETECTOR rec[-3] rec[-4] rec[-7]\n",
       "    OBSERVABLE_INCLUDE(0) rec[-1]\n",
       "''')"
      ]
     },
     "execution_count": 7,
     "metadata": {},
     "output_type": "execute_result"
    }
   ],
   "source": [
    "rep_code(distance=3, rounds=2, noise=0.01) "
   ]
  },
  {
   "cell_type": "code",
   "execution_count": 8,
   "metadata": {},
   "outputs": [],
   "source": [
    "def shot(circuit, distance, rounds):\n",
    "    sample = circuit.compile_sampler().sample(1)[0]\n",
    "    for r in range(rounds):\n",
    "        print(\"\".join(\"1\" if e else \"_\" for e in sample[r*distance:(r+1)*distance]))\n",
    "    print(\"\".join(\"1\" if e else \"_\" for e in sample[rounds*distance:]))\n",
    "\n",
    "def shot_detect(circuit, distance, rounds):\n",
    "    sample = circuit.compile_detector_sampler().sample(1, append_observables=True)[0]\n",
    "    for r in range(rounds):\n",
    "        print(\"\".join(\"1\" if e else \"_\" for e in sample[r*distance:(r+1)*distance]))\n",
    "    print(\"\".join(\"1\" if e else \"_\" for e in sample[rounds*distance:]))"
   ]
  },
  {
   "cell_type": "code",
   "execution_count": 9,
   "metadata": {},
   "outputs": [
    {
     "name": "stdout",
     "output_type": "stream",
     "text": [
      "_______________________________________________1__________________11____________\n",
      "1______________________11_____________________1_____1_____________11____________\n",
      "1______________________11____________________________1________1___11____________\n",
      "1______________________11____11___________________________________11____________\n",
      "1_1____________________1111__11_____________1_____________________11____________\n",
      "1______________________1111__11_____________11____________________11____________\n",
      "1______________________1111__11_____________11____________________11____1_______\n",
      "1______11______________1111__11_____________11____11____1___1_____11____________\n",
      "1______11______________1111__11______11_____1111__11____1_________11____________\n",
      "1______11____11________1111__11______11_____1111__11____11________11____11______\n",
      "1______11____11________1111__11______11_____1111__11____11________11____11______\n",
      "1______11____11__________11__11______11_____1111__11____11________11____11___1__\n",
      "1______11____11__________11__11______11_____1_11__11____11________11____11___11_\n",
      "1______111___11__________11__11______11_____1__1__11____11________11____11___11_\n",
      "1____111111__11_11_______11__11______11_____1__1__11____11________11___1_1___11_\n",
      "1____111111__11_11_______11__________11_____1__1__11______________11___1_1___11_\n",
      "1____111111__11_11_______11__________11_____1__1__11______________11___1_1___11_\n",
      "1__1_1__11_1_11_11_______11__________11_1___1__1__1_1___11___1____11___1_111_11_\n",
      "1____1__11_1_11_11_______11_______11_11_____1__1__1_1___11________11___1_111_11_\n",
      "1____1__1__1_11_11_______11_______11_11_____1__1__1_1___11______1111___1_111_11_\n",
      "1_____111__1__1__1________1________1__1______111___11____1_______1_1____11_1__1__\n",
      "\n",
      "\n",
      "\n",
      "\n",
      "__________________________________________________________________1_____________\n",
      "__________1__________________________________________________11__1______________\n",
      "__________1___________________________________1_________________________________\n",
      "___________1__________________________________1______________________1________1_\n",
      "_______11__1_________________________________________________________1_________1\n",
      "_____________1________________________________________________________________11\n",
      "________1_1________________________________________________1____________________\n",
      "_______1__1__1___________1__11______________________1______1____________________\n",
      "_________________________1__________1______1___1____1_________________________11\n",
      "___________________________________1______1__111_____________________________11_\n",
      "__11____________________________1_______________________________________________\n",
      "___________________1___________1_____________________________111________________\n",
      "___________________1__________________________1_____________1___________________\n",
      "______________________________________________1__________1______________________\n",
      "________________________________________________________1_______________________\n",
      "____111______________1_________________1________________________________________\n",
      "___1______1__________1___________1_____1_________________1______________________\n",
      "__________1_____________1________1____11_________________1______________________\n",
      "________________________1_________________________________________11____________\n",
      "________11___________________________11_________________________________________\n",
      "_\n"
     ]
    }
   ],
   "source": [
    "d = 80\n",
    "r = 20\n",
    "shot(rep_code(distance=d, rounds=r, noise=0.01), distance=d, rounds=r)\n",
    "print(\"\\n\"*3)\n",
    "shot_detect(rep_code(distance=d, rounds=r, noise=0.01), distance=d, rounds=r)"
   ]
  },
  {
   "cell_type": "code",
   "execution_count": null,
   "metadata": {},
   "outputs": [],
   "source": []
  },
  {
   "cell_type": "code",
   "execution_count": 10,
   "metadata": {},
   "outputs": [],
   "source": [
    "s = rep_code(distance=10**2, rounds=10**4, noise=0.01).compile_detector_sampler().sample_bit_packed(256)"
   ]
  },
  {
   "cell_type": "code",
   "execution_count": 11,
   "metadata": {},
   "outputs": [
    {
     "data": {
      "text/plain": [
       "array([[ 13,   0,   2, ...,   0,  96,   0],\n",
       "       [  0,   0, 128, ...,   0,   0,   0],\n",
       "       [  0,   0,   0, ...,   0,   8,   0],\n",
       "       ...,\n",
       "       [  0,   1,   0, ...,   0,   0,   0],\n",
       "       [  0,   0,   0, ...,   0,   0,   0],\n",
       "       [  2,   0,   0, ...,   0,  16,   4]], dtype=uint8)"
      ]
     },
     "execution_count": 11,
     "metadata": {},
     "output_type": "execute_result"
    }
   ],
   "source": [
    "s"
   ]
  },
  {
   "cell_type": "code",
   "execution_count": null,
   "metadata": {},
   "outputs": [],
   "source": []
  }
 ],
 "metadata": {
  "kernelspec": {
   "display_name": "Python 3",
   "language": "python",
   "name": "python3"
  },
  "language_info": {
   "codemirror_mode": {
    "name": "ipython",
    "version": 3
   },
   "file_extension": ".py",
   "mimetype": "text/x-python",
   "name": "python",
   "nbconvert_exporter": "python",
   "pygments_lexer": "ipython3",
   "version": "3.11.0rc1"
  }
 },
 "nbformat": 4,
 "nbformat_minor": 2
}
